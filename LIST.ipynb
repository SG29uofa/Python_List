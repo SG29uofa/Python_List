{
 "cells": [
  {
   "cell_type": "markdown",
   "id": "e9124708-3a67-4cb3-ae13-fdb609313951",
   "metadata": {},
   "source": [
    "# Different Methods for List"
   ]
  },
  {
   "cell_type": "code",
   "execution_count": 5,
   "id": "66c4c1a1-ab50-493e-9ed5-447b736f3d6e",
   "metadata": {},
   "outputs": [
    {
     "data": {
      "text/plain": [
       "[1, 2, 2, 'ABC', 'ABC', 'XYX']"
      ]
     },
     "execution_count": 5,
     "metadata": {},
     "output_type": "execute_result"
    }
   ],
   "source": [
    "### As show below, list are created using square brackets. Also, a list can have duplicate values. Number 2 and string ABC are duplicates.\n",
    "my_list = [1, 2, 2, \"ABC\",\"ABC\",\"XYX\"]\n",
    "my_list"
   ]
  },
  {
   "cell_type": "markdown",
   "id": "2f457cf5-f81b-43b3-a826-16c7b7368a52",
   "metadata": {},
   "source": [
    "#### Accessing items from list\n",
    "We can access the items by using its index. The indexing start from 0."
   ]
  },
  {
   "cell_type": "code",
   "execution_count": 11,
   "id": "0517f784-0fb4-4be9-9b87-97095d01d577",
   "metadata": {},
   "outputs": [
    {
     "data": {
      "text/plain": [
       "5"
      ]
     },
     "execution_count": 11,
     "metadata": {},
     "output_type": "execute_result"
    }
   ],
   "source": [
    "my_list = [1, 2, 3, 4, 5, \"A\", \"B\", \"C\"]\n",
    "my_list[4]"
   ]
  },
  {
   "cell_type": "markdown",
   "id": "573f25c3-37a1-4de2-a3a3-1704503e166e",
   "metadata": {},
   "source": [
    "#### Appending the list\n",
    "We can add any value to the list by using append() method. The new value will be added at the end of the list"
   ]
  },
  {
   "cell_type": "code",
   "execution_count": 16,
   "id": "21d5ea8b-e9ff-4673-9dbe-47314276b74c",
   "metadata": {},
   "outputs": [
    {
     "data": {
      "text/plain": [
       "[1, 2, 3, 4, 5, 'A', 'B', 'C', 'D']"
      ]
     },
     "execution_count": 16,
     "metadata": {},
     "output_type": "execute_result"
    }
   ],
   "source": [
    "my_list.append(\"D\")\n",
    "my_list"
   ]
  },
  {
   "cell_type": "markdown",
   "id": "06e90700-6b6c-4830-a019-af84c9cdf6b6",
   "metadata": {},
   "source": [
    "#### We can add a new value to a list at any position by using insert() method. \n",
    "We need to mention the index position and the value to be added."
   ]
  },
  {
   "cell_type": "code",
   "execution_count": 95,
   "id": "d7325067-b1e3-432f-96dd-9abeee9ec2d7",
   "metadata": {},
   "outputs": [
    {
     "name": "stdout",
     "output_type": "stream",
     "text": [
      "[1, 2, 3, 4, 5, 'A', 'B', 'C']\n",
      "[1, 2, 'New String', 3, 4, 5, 'A', 'B', 'C']\n"
     ]
    }
   ],
   "source": [
    "my_list = [1, 2, 3, 4, 5, \"A\", \"B\", \"C\"]\n",
    "print(my_list)\n",
    "my_list.insert(2, \"New String\")  #### New String will be added at 2 index position\n",
    "print(my_list)"
   ]
  },
  {
   "cell_type": "markdown",
   "id": "f7152961-bf86-4e86-ad79-6b49e25806c1",
   "metadata": {},
   "source": [
    "#### Clearing all the items in the list\n",
    "We can clear all the items in the list by using clear() method"
   ]
  },
  {
   "cell_type": "code",
   "execution_count": 100,
   "id": "9b48cdee-4321-4cd8-b60e-f53b5e323d0a",
   "metadata": {},
   "outputs": [
    {
     "data": {
      "text/plain": [
       "[]"
      ]
     },
     "execution_count": 100,
     "metadata": {},
     "output_type": "execute_result"
    }
   ],
   "source": [
    "my_list.clear()\n",
    "my_list"
   ]
  },
  {
   "cell_type": "markdown",
   "id": "0bdf0799-5b06-4bc1-b9bb-6f4462c54660",
   "metadata": {},
   "source": [
    "#### pop() method helps us to remove any item from the list based on its index\n",
    "We need to specify the index position of that item"
   ]
  },
  {
   "cell_type": "code",
   "execution_count": 103,
   "id": "4e3f4673-17c9-4616-b8ae-327eb93bb36d",
   "metadata": {},
   "outputs": [
    {
     "name": "stdout",
     "output_type": "stream",
     "text": [
      "[1, 2, 3, 4, 5, 'A', 'B', 'C']\n"
     ]
    }
   ],
   "source": [
    "my_list = [1, 2, 'New String', 3, 4, 5, 'A', 'B', 'C']\n",
    "my_list.pop(2) ### Items present at index position 2 will be removed. In our case it is the string \"New_string\"\n",
    "print(my_list)"
   ]
  },
  {
   "cell_type": "markdown",
   "id": "ab9250fe-4c29-4655-8f37-f172d34d1307",
   "metadata": {},
   "source": [
    "#### Remove() method will remove a item based on its value"
   ]
  },
  {
   "cell_type": "code",
   "execution_count": 106,
   "id": "4cf4520b-42ec-4502-9217-25160469f2c4",
   "metadata": {},
   "outputs": [
    {
     "name": "stdout",
     "output_type": "stream",
     "text": [
      "[1, 2, 3, 4, 5, 'A', 'C']\n"
     ]
    }
   ],
   "source": [
    "my_list = [1, 2, 3, 4, 5, \"A\", \"B\", \"C\"]\n",
    "my_list.remove(\"B\") ### Removes the string \"B\" from the list\n",
    "print(my_list)"
   ]
  },
  {
   "cell_type": "markdown",
   "id": "7e9d4aeb-cc6f-41f2-9ce4-ac5aba9456d6",
   "metadata": {},
   "source": [
    "#### A list can be copied using a copy() method."
   ]
  },
  {
   "cell_type": "code",
   "execution_count": 108,
   "id": "ce7f261a-9d2c-4d7c-be1e-d86a59cc5949",
   "metadata": {},
   "outputs": [
    {
     "data": {
      "text/plain": [
       "[1, 2, 3, 4, 5, 'A', 'B', 'C']"
      ]
     },
     "execution_count": 108,
     "metadata": {},
     "output_type": "execute_result"
    }
   ],
   "source": [
    "my_list = [1, 2, 3, 4, 5, \"A\", \"B\", \"C\"]\n",
    "my_list_new = my_list.copy()\n",
    "my_list_new"
   ]
  },
  {
   "cell_type": "markdown",
   "id": "7cb273bd-2d52-4c01-a51d-9e31123f6e40",
   "metadata": {},
   "source": [
    "#### We can use a count() method, to count a specific number of values/items in the list"
   ]
  },
  {
   "cell_type": "code",
   "execution_count": 111,
   "id": "e3cee1b1-cb4e-45d6-a000-f54ce3b6e6d4",
   "metadata": {},
   "outputs": [
    {
     "name": "stdout",
     "output_type": "stream",
     "text": [
      " Number 2 is present 2 times in the list\n",
      " String ABC is present 3 times in the list\n"
     ]
    }
   ],
   "source": [
    "my_list = [1, 2, 2, \"ABC\",\"ABC\",\"ABC\"]\n",
    "print(f\" Number 2 is present {my_list.count(2)} times in the list\")\n",
    "print(f\" String ABC is present {my_list.count(\"ABC\")} times in the list\")"
   ]
  },
  {
   "cell_type": "markdown",
   "id": "18880720-2220-444f-bc87-7cee1f7909a2",
   "metadata": {},
   "source": [
    "#### We use extend() method to add the current items of list to a new list"
   ]
  },
  {
   "cell_type": "code",
   "execution_count": 114,
   "id": "c3ce843c-1dfe-43a1-937d-8541e25aa367",
   "metadata": {},
   "outputs": [
    {
     "data": {
      "text/plain": [
       "[1, 2, 3, 'ABC', 'XYZ']"
      ]
     },
     "execution_count": 114,
     "metadata": {},
     "output_type": "execute_result"
    }
   ],
   "source": [
    "my_list_1 = [1, 2, 3]\n",
    "my_list_2 = [\"ABC\",\"XYZ\"]\n",
    "my_list_1.extend(my_list_2)\n",
    "my_list_1   ###########  Please note our original list which my_list_1 will be changed."
   ]
  },
  {
   "cell_type": "markdown",
   "id": "7afd138c-78d7-4587-b7c6-910eba73dea4",
   "metadata": {},
   "source": [
    "#### Index() method helps to get the position values of the first occurence of the items"
   ]
  },
  {
   "cell_type": "code",
   "execution_count": 117,
   "id": "b22f733e-5421-430f-82fa-b67dface6e23",
   "metadata": {},
   "outputs": [
    {
     "name": "stdout",
     "output_type": "stream",
     "text": [
      " Number 2 first occurs at index 1 position in the list\n",
      " String ABC first occures at index 4 position in the list\n"
     ]
    }
   ],
   "source": [
    "my_list = [1, 2, 2, \"XYZ\",\"ABC\",\"ABC\"]\n",
    "print(f\" Number 2 first occurs at index {my_list.index(2)} position in the list\")\n",
    "print(f\" String ABC first occures at index {my_list.index(\"ABC\")} position in the list\")"
   ]
  },
  {
   "cell_type": "markdown",
   "id": "868a13f7-fb8e-42fb-90f2-4a13deb19783",
   "metadata": {},
   "source": [
    "#### We can reverse the orders of the items in the list using reverse() method"
   ]
  },
  {
   "cell_type": "code",
   "execution_count": 120,
   "id": "d5d91067-ba71-4f7b-a039-bb4ed1b610de",
   "metadata": {},
   "outputs": [
    {
     "data": {
      "text/plain": [
       "['K', 'O', 'L', 'A', 'N', 'B']"
      ]
     },
     "execution_count": 120,
     "metadata": {},
     "output_type": "execute_result"
    }
   ],
   "source": [
    "my_list = [\"B\",\"N\",\"A\",\"L\",\"O\",\"K\"]\n",
    "my_list.reverse()\n",
    "my_list"
   ]
  },
  {
   "cell_type": "markdown",
   "id": "bf0fa41b-ec7f-4039-9940-348572abbc51",
   "metadata": {},
   "source": [
    "#### We can sort the items of the list using sort() method."
   ]
  },
  {
   "cell_type": "code",
   "execution_count": 123,
   "id": "c1654863-26bc-4b2a-892e-6572662799bc",
   "metadata": {},
   "outputs": [
    {
     "name": "stdout",
     "output_type": "stream",
     "text": [
      "['A', 'B', 'K', 'L', 'N', 'O']\n"
     ]
    }
   ],
   "source": [
    "my_list = [\"B\",\"N\",\"A\",\"L\",\"O\",\"K\"]\n",
    "my_list.sort()\n",
    "print(my_list)"
   ]
  },
  {
   "cell_type": "code",
   "execution_count": null,
   "id": "73bd0751-f29a-4418-9b65-5091e34fc7b4",
   "metadata": {},
   "outputs": [],
   "source": []
  },
  {
   "cell_type": "code",
   "execution_count": null,
   "id": "e7466418-72f7-495f-8e9d-8a2b427f3cfc",
   "metadata": {},
   "outputs": [],
   "source": []
  },
  {
   "cell_type": "code",
   "execution_count": null,
   "id": "9d338134-83d4-40f1-8889-144901389947",
   "metadata": {},
   "outputs": [],
   "source": []
  },
  {
   "cell_type": "code",
   "execution_count": null,
   "id": "cefa6da4-0b73-44ea-8dc1-f02f70eec010",
   "metadata": {},
   "outputs": [],
   "source": []
  },
  {
   "cell_type": "code",
   "execution_count": null,
   "id": "1ae3cbf9-c9f4-455c-8513-5d5cc5494661",
   "metadata": {},
   "outputs": [],
   "source": []
  },
  {
   "cell_type": "code",
   "execution_count": null,
   "id": "0e155858-4cfe-4281-bd73-5fcae00a96ba",
   "metadata": {},
   "outputs": [],
   "source": []
  }
 ],
 "metadata": {
  "kernelspec": {
   "display_name": "Python [conda env:base] *",
   "language": "python",
   "name": "conda-base-py"
  },
  "language_info": {
   "codemirror_mode": {
    "name": "ipython",
    "version": 3
   },
   "file_extension": ".py",
   "mimetype": "text/x-python",
   "name": "python",
   "nbconvert_exporter": "python",
   "pygments_lexer": "ipython3",
   "version": "3.12.7"
  }
 },
 "nbformat": 4,
 "nbformat_minor": 5
}
